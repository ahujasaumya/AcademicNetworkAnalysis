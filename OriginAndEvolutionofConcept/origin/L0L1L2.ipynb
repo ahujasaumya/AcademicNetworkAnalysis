{
 "cells": [
  {
   "cell_type": "code",
   "execution_count": 13,
   "metadata": {},
   "outputs": [
    {
     "name": "stderr",
     "output_type": "stream",
     "text": [
      "C:\\Users\\saumya\\Anaconda3\\lib\\site-packages\\ipykernel_launcher.py:19: SettingWithCopyWarning: \n",
      "A value is trying to be set on a copy of a slice from a DataFrame.\n",
      "Try using .loc[row_indexer,col_indexer] = value instead\n",
      "\n",
      "See the caveats in the documentation: http://pandas.pydata.org/pandas-docs/stable/indexing.html#indexing-view-versus-copy\n"
     ]
    }
   ],
   "source": [
    "import os\n",
    "import pandas as pd\n",
    "from ast import literal_eval\n",
    "from utils import helpersorigin\n",
    "import networkx as nx\n",
    "def GetOriginPublication(df):    \n",
    "    return df.loc[df['year'].idxmin()]['id']\n",
    "\n",
    "#helpersorigin.GetPublications('lstm') #uncomment and run for new concept\n",
    "\n",
    "#L0\n",
    "directory_path=os.path.expanduser(\"~\")\n",
    "df_all=pd.read_csv(directory_path+'\\OriginAndEvolutionofConcept\\data\\outputs\\df_concept.csv')\n",
    "df_originid=GetOriginPublication(df_all)\n",
    "df_origin=df_all.loc[(df_all['id'] == df_originid)]\n",
    "\n",
    "#L1\n",
    "#find outcitations of origin\n",
    "df_origin['outCitations']=df_origin['outCitations'].apply(lambda x:literal_eval(x))\n",
    "df_oo_l0l1=df_origin.set_index('id')['outCitations'].to_dict()\n",
    "\n",
    "#L2\n",
    "#find outCitations of outcitations\n",
    "\n",
    "#helpersorigin.GetDetailsofReferences(df_origin['outCitations'][df_origin.index[0]]) #uncomment for new concept\n",
    "\n",
    "df_oo_l1l2=pd.read_csv(directory_path+'\\OriginAndEvolutionofConcept\\data\\outputs\\df_reference_details.csv')\n",
    "df_oo_l1l2=df_oo_l1l2[['id','outCitations']]\n",
    "df_oo_l1l2['outCitations']=df_oo_l1l2['outCitations'].apply(lambda x:literal_eval(x))\n",
    "df_oo_l1l2=df_oo_l1l2.set_index('id')['outCitations'].to_dict()\n",
    "\n",
    "#combine L1 L2 and create complete graph\n",
    "df_oo_l1l2.update(df_oo_l0l1)\n",
    "G=helpersorigin.CreateGraph(df_oo_l1l2)\n",
    "\n",
    "#export to gephi\n",
    "nx.write_graphml_lxml(G, directory_path+'\\OriginAndEvolutionofConcept\\data\\outputs\\LSTM_L0L1L2.graphml')"
   ]
  }
 ],
 "metadata": {
  "kernelspec": {
   "display_name": "Python 3",
   "language": "python",
   "name": "python3"
  },
  "language_info": {
   "codemirror_mode": {
    "name": "ipython",
    "version": 3
   },
   "file_extension": ".py",
   "mimetype": "text/x-python",
   "name": "python",
   "nbconvert_exporter": "python",
   "pygments_lexer": "ipython3",
   "version": "3.6.5"
  }
 },
 "nbformat": 4,
 "nbformat_minor": 2
}

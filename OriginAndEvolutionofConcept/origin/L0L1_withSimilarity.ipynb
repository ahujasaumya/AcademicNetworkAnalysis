{
 "cells": [
  {
   "cell_type": "code",
   "execution_count": 1,
   "metadata": {},
   "outputs": [
    {
     "name": "stdout",
     "output_type": "stream",
     "text": [
      "[nltk_data] Downloading package punkt to\n",
      "[nltk_data]     C:\\Users\\saumya\\AppData\\Roaming\\nltk_data...\n",
      "[nltk_data]   Package punkt is already up-to-date!\n"
     ]
    }
   ],
   "source": [
    "import nltk, string\n",
    "from sklearn.feature_extraction.text import TfidfVectorizer\n",
    "\n",
    "nltk.download('punkt') # if necessary...\n",
    "\n",
    "\n",
    "stemmer = nltk.stem.porter.PorterStemmer()\n",
    "remove_punctuation_map = dict((ord(char), None) for char in string.punctuation)\n",
    "\n",
    "def stem_tokens(tokens):\n",
    "    return [stemmer.stem(item) for item in tokens]\n",
    "\n",
    "'''remove punctuation, lowercase, stem'''\n",
    "def normalize(text):\n",
    "    return stem_tokens(nltk.word_tokenize(text.lower().translate(remove_punctuation_map)))\n",
    "\n",
    "vectorizer = TfidfVectorizer(tokenizer=normalize, stop_words='english')"
   ]
  },
  {
   "cell_type": "code",
   "execution_count": 4,
   "metadata": {},
   "outputs": [
    {
     "name": "stderr",
     "output_type": "stream",
     "text": [
      "C:\\Users\\saumya\\Anaconda3\\lib\\site-packages\\ipykernel_launcher.py:20: SettingWithCopyWarning: \n",
      "A value is trying to be set on a copy of a slice from a DataFrame.\n",
      "Try using .loc[row_indexer,col_indexer] = value instead\n",
      "\n",
      "See the caveats in the documentation: http://pandas.pydata.org/pandas-docs/stable/indexing.html#indexing-view-versus-copy\n",
      "C:\\Users\\saumya\\Anaconda3\\lib\\site-packages\\ipykernel_launcher.py:33: SettingWithCopyWarning: \n",
      "A value is trying to be set on a copy of a slice from a DataFrame.\n",
      "Try using .loc[row_indexer,col_indexer] = value instead\n",
      "\n",
      "See the caveats in the documentation: http://pandas.pydata.org/pandas-docs/stable/indexing.html#indexing-view-versus-copy\n",
      "C:\\Users\\saumya\\Anaconda3\\lib\\site-packages\\ipykernel_launcher.py:38: SettingWithCopyWarning: \n",
      "A value is trying to be set on a copy of a slice from a DataFrame.\n",
      "Try using .loc[row_indexer,col_indexer] = value instead\n",
      "\n",
      "See the caveats in the documentation: http://pandas.pydata.org/pandas-docs/stable/indexing.html#indexing-view-versus-copy\n"
     ]
    }
   ],
   "source": [
    "import os\n",
    "import pandas as pd\n",
    "from ast import literal_eval\n",
    "from utils import helpersorigin\n",
    "import networkx as nx\n",
    "def GetOriginPublication(df):    \n",
    "    return df.loc[df['year'].idxmin()]['id']\n",
    "\n",
    "#helpersorigin.GetPublications('lstm') #uncomment and run for new concept\n",
    "\n",
    "#L0\n",
    "#find original publication\n",
    "directory_path=os.path.expanduser(\"~\")\n",
    "df_all=pd.read_csv(directory_path+'\\OriginAndEvolutionofConcept\\data\\outputs\\df_concept.csv')\n",
    "df_originid=GetOriginPublication(df_all)\n",
    "df_origin=df_all.loc[(df_all['id'] == df_originid)]\n",
    "\n",
    "#L1\n",
    "#process outcitations of origin\n",
    "df_origin['outCitations']=df_origin['outCitations'].apply(lambda x:literal_eval(x))\n",
    "\n",
    "#find similarities in abstract L0L1\n",
    "\n",
    "#helpersorigin.GetDetailsofReferences(df_origin['outCitations'][df_origin.index[0]]) #uncomment for new concept\n",
    "df_oo_l1l2=pd.read_csv(directory_path+'\\OriginAndEvolutionofConcept\\data\\outputs\\df_reference_details.csv')\n",
    "df_oo_l0l1l2=df_oo_l1l2.append(df_origin)\n",
    "tfidf = vectorizer.fit_transform(df_oo_l0l1l2['paperAbstract'])\n",
    "similarities=((tfidf * tfidf.T).A)[len(df_oo_l0l1l2.index)-1]\n",
    "df_oo_l0l1l2['similarity']=similarities\n",
    "\n",
    "#process nodes for gephi input\n",
    "df_nodes=df_oo_l0l1l2[['id','similarity']]\n",
    "df_nodes['label']=df_oo_l0l1l2['title']\n",
    "df_nodes.to_csv(directory_path+'\\OriginAndEvolutionofConcept\\data\\outputs\\l0l1sim_nodes.csv',index=False)\n",
    "\n",
    "#process edges for gephi input\n",
    "df_edges=df_oo_l0l1l2[['id','similarity']]\n",
    "df_edges['source']=df_originid\n",
    "df_edges.columns=['target','similarity','source']\n",
    "df_edges.to_csv(directory_path+'\\OriginAndEvolutionofConcept\\data\\outputs\\l0l1sim_edges.csv',index=False)"
   ]
  },
  {
   "cell_type": "code",
   "execution_count": null,
   "metadata": {},
   "outputs": [],
   "source": []
  }
 ],
 "metadata": {
  "kernelspec": {
   "display_name": "Python 3",
   "language": "python",
   "name": "python3"
  },
  "language_info": {
   "codemirror_mode": {
    "name": "ipython",
    "version": 3
   },
   "file_extension": ".py",
   "mimetype": "text/x-python",
   "name": "python",
   "nbconvert_exporter": "python",
   "pygments_lexer": "ipython3",
   "version": "3.6.5"
  }
 },
 "nbformat": 4,
 "nbformat_minor": 2
}
